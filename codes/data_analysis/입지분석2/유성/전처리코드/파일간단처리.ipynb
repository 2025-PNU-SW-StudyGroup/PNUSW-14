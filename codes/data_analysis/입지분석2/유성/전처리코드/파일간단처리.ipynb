{
 "cells": [
  {
   "cell_type": "code",
   "execution_count": 1,
   "metadata": {},
   "outputs": [],
   "source": [
    "import chardet\n",
    "import pandas as pd\n",
    "import numpy as np\n",
    "from scipy.spatial import distance\n",
    "from pyproj import Transformer\n",
    "from geopy.distance import geodesic"
   ]
  },
  {
   "cell_type": "code",
   "execution_count": 2,
   "metadata": {},
   "outputs": [],
   "source": [
    "def open_with_auto_sensing_encoding_types(file_path):\n",
    "    with open(file_path, 'rb') as f:\n",
    "        rawdata = f.read()\n",
    "        result = chardet.detect(rawdata)\n",
    "        encoding_type = result['encoding']\n",
    "\n",
    "    print(f\"파일의 인코딩: {encoding_type}\")\n",
    "    # 감지된 인코딩으로 파일 읽기\n",
    "    df = pd.read_csv(file_path, encoding=encoding_type)\n",
    "    print(len(df))\n",
    "    return df"
   ]
  },
  {
   "cell_type": "code",
   "execution_count": 3,
   "metadata": {},
   "outputs": [
    {
     "name": "stdout",
     "output_type": "stream",
     "text": [
      "파일의 인코딩: utf-8\n",
      "1765\n"
     ]
    },
    {
     "data": {
      "text/html": [
       "<div>\n",
       "<style scoped>\n",
       "    .dataframe tbody tr th:only-of-type {\n",
       "        vertical-align: middle;\n",
       "    }\n",
       "\n",
       "    .dataframe tbody tr th {\n",
       "        vertical-align: top;\n",
       "    }\n",
       "\n",
       "    .dataframe thead th {\n",
       "        text-align: right;\n",
       "    }\n",
       "</style>\n",
       "<table border=\"1\" class=\"dataframe\">\n",
       "  <thead>\n",
       "    <tr style=\"text-align: right;\">\n",
       "      <th></th>\n",
       "      <th>Unnamed: 0.1</th>\n",
       "      <th>경도</th>\n",
       "      <th>위도</th>\n",
       "      <th>subway_최소거리(m)</th>\n",
       "      <th>subway_idx</th>\n",
       "      <th>subway_idx_시설명</th>\n",
       "      <th>500m지하철역개수</th>\n",
       "      <th>bus_최소거리(m)</th>\n",
       "      <th>bus_idx</th>\n",
       "      <th>bus_idx_시설명</th>\n",
       "      <th>...</th>\n",
       "      <th>parking_최소거리(m)</th>\n",
       "      <th>parking_idx</th>\n",
       "      <th>parking_idx_시설명</th>\n",
       "      <th>500내주차장개수</th>\n",
       "      <th>Unnamed: 0</th>\n",
       "      <th>행정동</th>\n",
       "      <th>center_lat</th>\n",
       "      <th>center_lon</th>\n",
       "      <th>주차장수</th>\n",
       "      <th>최소거리(m)</th>\n",
       "    </tr>\n",
       "  </thead>\n",
       "  <tbody>\n",
       "    <tr>\n",
       "      <th>0</th>\n",
       "      <td>0</td>\n",
       "      <td>127.057131</td>\n",
       "      <td>37.529359</td>\n",
       "      <td>943.105681</td>\n",
       "      <td>10</td>\n",
       "      <td>자양</td>\n",
       "      <td>0</td>\n",
       "      <td>658.159095</td>\n",
       "      <td>92</td>\n",
       "      <td>영동대교북단</td>\n",
       "      <td>...</td>\n",
       "      <td>550.087297</td>\n",
       "      <td>267</td>\n",
       "      <td>유료</td>\n",
       "      <td>0</td>\n",
       "      <td>0</td>\n",
       "      <td>자양4동</td>\n",
       "      <td>37.529359</td>\n",
       "      <td>127.057131</td>\n",
       "      <td>0.0</td>\n",
       "      <td>0.0</td>\n",
       "    </tr>\n",
       "    <tr>\n",
       "      <th>1</th>\n",
       "      <td>1</td>\n",
       "      <td>127.058268</td>\n",
       "      <td>37.528462</td>\n",
       "      <td>827.611715</td>\n",
       "      <td>10</td>\n",
       "      <td>자양</td>\n",
       "      <td>0</td>\n",
       "      <td>636.487794</td>\n",
       "      <td>92</td>\n",
       "      <td>영동대교북단</td>\n",
       "      <td>...</td>\n",
       "      <td>489.745395</td>\n",
       "      <td>268</td>\n",
       "      <td>유료</td>\n",
       "      <td>0</td>\n",
       "      <td>1</td>\n",
       "      <td>자양4동</td>\n",
       "      <td>37.528462</td>\n",
       "      <td>127.058268</td>\n",
       "      <td>0.0</td>\n",
       "      <td>0.0</td>\n",
       "    </tr>\n",
       "  </tbody>\n",
       "</table>\n",
       "<p>2 rows × 33 columns</p>\n",
       "</div>"
      ],
      "text/plain": [
       "   Unnamed: 0.1          경도         위도  subway_최소거리(m)  subway_idx  \\\n",
       "0             0  127.057131  37.529359      943.105681          10   \n",
       "1             1  127.058268  37.528462      827.611715          10   \n",
       "\n",
       "  subway_idx_시설명  500m지하철역개수  bus_최소거리(m)  bus_idx bus_idx_시설명  ...  \\\n",
       "0             자양           0   658.159095       92      영동대교북단  ...   \n",
       "1             자양           0   636.487794       92      영동대교북단  ...   \n",
       "\n",
       "   parking_최소거리(m)  parking_idx  parking_idx_시설명 500내주차장개수  Unnamed: 0   행정동  \\\n",
       "0       550.087297          267               유료         0           0  자양4동   \n",
       "1       489.745395          268               유료         0           1  자양4동   \n",
       "\n",
       "   center_lat  center_lon  주차장수  최소거리(m)  \n",
       "0   37.529359  127.057131   0.0      0.0  \n",
       "1   37.528462  127.058268   0.0      0.0  \n",
       "\n",
       "[2 rows x 33 columns]"
      ]
     },
     "execution_count": 3,
     "metadata": {},
     "output_type": "execute_result"
    }
   ],
   "source": [
    "target_path = \"/Users/yujin/Desktop/파일/3-1/데이터분석 공모전/codes/키즈카페입지분석2/data/target/tile_per_datasV3.csv\"\n",
    "taget_df = open_with_auto_sensing_encoding_types(target_path)\n",
    "taget_df.head(2)"
   ]
  },
  {
   "cell_type": "code",
   "execution_count": 4,
   "metadata": {},
   "outputs": [
    {
     "data": {
      "text/plain": [
       "Index(['Unnamed: 0.1', '경도', '위도', 'subway_최소거리(m)', 'subway_idx',\n",
       "       'subway_idx_시설명', '500m지하철역개수', 'bus_최소거리(m)', 'bus_idx', 'bus_idx_시설명',\n",
       "       '500m버스정류장개수', 'badplace_최소거리(m)', 'badplace_idx', 'badplace_idx_시설명',\n",
       "       '500m술집개수', 'child_protection_최소거리(m)', 'child_protection_idx',\n",
       "       'child_protection_idx_시설명', '300m보호구역개수', 'accident_최소거리(m)',\n",
       "       'accident_idx', 'accident_idx_시설명', '200m내위험구역개수', 'parking_최소거리(m)',\n",
       "       'parking_idx', 'parking_idx_시설명', '500내주차장개수', 'Unnamed: 0', '행정동',\n",
       "       'center_lat', 'center_lon', '주차장수', '최소거리(m)'],\n",
       "      dtype='object')"
      ]
     },
     "execution_count": 4,
     "metadata": {},
     "output_type": "execute_result"
    }
   ],
   "source": [
    "taget_df.columns"
   ]
  },
  {
   "cell_type": "code",
   "execution_count": null,
   "metadata": {},
   "outputs": [
    {
     "data": {
      "text/html": [
       "<div>\n",
       "<style scoped>\n",
       "    .dataframe tbody tr th:only-of-type {\n",
       "        vertical-align: middle;\n",
       "    }\n",
       "\n",
       "    .dataframe tbody tr th {\n",
       "        vertical-align: top;\n",
       "    }\n",
       "\n",
       "    .dataframe thead th {\n",
       "        text-align: right;\n",
       "    }\n",
       "</style>\n",
       "<table border=\"1\" class=\"dataframe\">\n",
       "  <thead>\n",
       "    <tr style=\"text-align: right;\">\n",
       "      <th></th>\n",
       "      <th>행정동</th>\n",
       "      <th>경도</th>\n",
       "      <th>위도</th>\n",
       "      <th>subway_최소거리(m)</th>\n",
       "      <th>500m지하철역개수</th>\n",
       "      <th>bus_최소거리(m)</th>\n",
       "      <th>500m버스정류장개수</th>\n",
       "      <th>badplace_최소거리(m)</th>\n",
       "      <th>500m술집개수</th>\n",
       "      <th>child_protection_최소거리(m)</th>\n",
       "      <th>300m보호구역개수</th>\n",
       "      <th>accident_최소거리(m)</th>\n",
       "      <th>200m내위험구역개수</th>\n",
       "      <th>parking_최소거리(m)</th>\n",
       "      <th>500내주차장개수</th>\n",
       "    </tr>\n",
       "  </thead>\n",
       "  <tbody>\n",
       "    <tr>\n",
       "      <th>0</th>\n",
       "      <td>자양4동</td>\n",
       "      <td>127.057131</td>\n",
       "      <td>37.529359</td>\n",
       "      <td>943.105681</td>\n",
       "      <td>0</td>\n",
       "      <td>658.159095</td>\n",
       "      <td>0</td>\n",
       "      <td>678.069180</td>\n",
       "      <td>0</td>\n",
       "      <td>1283.829239</td>\n",
       "      <td>0</td>\n",
       "      <td>1148.133137</td>\n",
       "      <td>0</td>\n",
       "      <td>550.087297</td>\n",
       "      <td>0</td>\n",
       "    </tr>\n",
       "    <tr>\n",
       "      <th>1</th>\n",
       "      <td>자양4동</td>\n",
       "      <td>127.058268</td>\n",
       "      <td>37.528462</td>\n",
       "      <td>827.611715</td>\n",
       "      <td>0</td>\n",
       "      <td>636.487794</td>\n",
       "      <td>0</td>\n",
       "      <td>580.961545</td>\n",
       "      <td>0</td>\n",
       "      <td>1178.187396</td>\n",
       "      <td>0</td>\n",
       "      <td>1028.175732</td>\n",
       "      <td>0</td>\n",
       "      <td>489.745395</td>\n",
       "      <td>0</td>\n",
       "    </tr>\n",
       "  </tbody>\n",
       "</table>\n",
       "</div>"
      ],
      "text/plain": [
       "    행정동          경도         위도  subway_최소거리(m)  500m지하철역개수  bus_최소거리(m)  \\\n",
       "0  자양4동  127.057131  37.529359      943.105681           0   658.159095   \n",
       "1  자양4동  127.058268  37.528462      827.611715           0   636.487794   \n",
       "\n",
       "   500m버스정류장개수  badplace_최소거리(m)  500m술집개수  child_protection_최소거리(m)  \\\n",
       "0            0        678.069180         0               1283.829239   \n",
       "1            0        580.961545         0               1178.187396   \n",
       "\n",
       "   300m보호구역개수  accident_최소거리(m)  200m내위험구역개수  parking_최소거리(m)  500내주차장개수  \n",
       "0           0       1148.133137            0       550.087297          0  \n",
       "1           0       1028.175732            0       489.745395          0  "
      ]
     },
     "execution_count": 5,
     "metadata": {},
     "output_type": "execute_result"
    }
   ],
   "source": [
    "colnames = ['행정동', '경도', '위도', 'subway_최소거리(m)',\n",
    "       '500m지하철역개수', 'bus_최소거리(m)',\n",
    "       '500m버스정류장개수', 'badplace_최소거리(m)',\n",
    "       '500m술집개수', \n",
    "       'child_protection_최소거리(m)','300m보호구역개수', \n",
    "       'accident_최소거리(m)', '200m내위험구역개수', \n",
    "       'parking_최소거리(m)', '500내주차장개수']\n",
    "\n",
    "new_taget_df = taget_df[colnames]\n"
   ]
  },
  {
   "cell_type": "code",
   "execution_count": 8,
   "metadata": {},
   "outputs": [
    {
     "data": {
      "text/plain": [
       "광장동     276\n",
       "중곡4동    229\n",
       "자양2동    162\n",
       "구의3동    146\n",
       "구의2동    137\n",
       "화양동     118\n",
       "자양4동    115\n",
       "자양3동    114\n",
       "능동      110\n",
       "군자동      75\n",
       "중곡3동     60\n",
       "중곡1동     59\n",
       "자양1동     57\n",
       "구의1동     55\n",
       "중곡2동     52\n",
       "Name: 행정동, dtype: int64"
      ]
     },
     "execution_count": 8,
     "metadata": {},
     "output_type": "execute_result"
    }
   ],
   "source": [
    "new_taget_df[\"행정동\"].value_counts()"
   ]
  },
  {
   "cell_type": "code",
   "execution_count": 7,
   "metadata": {},
   "outputs": [
    {
     "name": "stdout",
     "output_type": "stream",
     "text": [
      "    행정동          경도         위도  subway_최소거리(m)  500m지하철역개수  bus_최소거리(m)  \\\n",
      "0  자양4동  127.057131  37.529359      943.105681           0   658.159095   \n",
      "1  자양4동  127.058268  37.528462      827.611715           0   636.487794   \n",
      "\n",
      "   500m버스정류장개수  badplace_최소거리(m)  500m술집개수  child_protection_최소거리(m)  \\\n",
      "0            0        678.069180         0               1283.829239   \n",
      "1            0        580.961545         0               1178.187396   \n",
      "\n",
      "   300m보호구역개수  accident_최소거리(m)  200m내위험구역개수  parking_최소거리(m)  500내주차장개수  \n",
      "0           0       1148.133137            0       550.087297          0  \n",
      "1           0       1028.175732            0       489.745395          0  \n"
     ]
    }
   ],
   "source": [
    "print(new_taget_df.head(2))"
   ]
  },
  {
   "cell_type": "code",
   "execution_count": 6,
   "metadata": {},
   "outputs": [],
   "source": [
    "new_taget_df.to_csv(\"/Users/yujin/Desktop/파일/3-1/데이터분석 공모전/codes/키즈카페입지분석2/data/preprocessed_target.csv\")"
   ]
  }
 ],
 "metadata": {
  "kernelspec": {
   "display_name": "base",
   "language": "python",
   "name": "python3"
  },
  "language_info": {
   "codemirror_mode": {
    "name": "ipython",
    "version": 3
   },
   "file_extension": ".py",
   "mimetype": "text/x-python",
   "name": "python",
   "nbconvert_exporter": "python",
   "pygments_lexer": "ipython3",
   "version": "3.11.4"
  }
 },
 "nbformat": 4,
 "nbformat_minor": 2
}
